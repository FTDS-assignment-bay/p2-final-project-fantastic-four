{
 "cells": [
  {
   "cell_type": "markdown",
   "metadata": {},
   "source": [
    "## Introduction"
   ]
  },
  {
   "cell_type": "markdown",
   "metadata": {},
   "source": [
    "Notebook ini digunakan untuk membuat recommender system berdasarkan preferensi pelanggan AirBnB"
   ]
  },
  {
   "cell_type": "markdown",
   "metadata": {},
   "source": [
    "## Import Libraries"
   ]
  },
  {
   "cell_type": "code",
   "execution_count": 88,
   "metadata": {},
   "outputs": [],
   "source": [
    "import pandas as pd\n",
    "import numpy as np\n",
    "import ast\n",
    "from sklearn.feature_extraction.text import TfidfVectorizer\n",
    "from sklearn.metrics.pairwise import cosine_similarity\n",
    "from scipy.sparse import hstack\n",
    "from sklearn.preprocessing import RobustScaler\n",
    "from sklearn.pipeline import Pipeline\n",
    "from feature_engine.outliers import Winsorizer\n",
    "from sklearn.compose import ColumnTransformer"
   ]
  },
  {
   "cell_type": "markdown",
   "metadata": {},
   "source": [
    "## Exploratory Data Analysis"
   ]
  },
  {
   "cell_type": "code",
   "execution_count": 2,
   "metadata": {},
   "outputs": [
    {
     "data": {
      "text/html": [
       "<div>\n",
       "<style scoped>\n",
       "    .dataframe tbody tr th:only-of-type {\n",
       "        vertical-align: middle;\n",
       "    }\n",
       "\n",
       "    .dataframe tbody tr th {\n",
       "        vertical-align: top;\n",
       "    }\n",
       "\n",
       "    .dataframe thead th {\n",
       "        text-align: right;\n",
       "    }\n",
       "</style>\n",
       "<table border=\"1\" class=\"dataframe\">\n",
       "  <thead>\n",
       "    <tr style=\"text-align: right;\">\n",
       "      <th></th>\n",
       "      <th>id</th>\n",
       "      <th>listing_url</th>\n",
       "      <th>picture_url</th>\n",
       "      <th>name</th>\n",
       "      <th>description</th>\n",
       "      <th>property_type</th>\n",
       "      <th>room_type</th>\n",
       "      <th>accommodates</th>\n",
       "      <th>number_of_reviews</th>\n",
       "      <th>bedrooms</th>\n",
       "      <th>beds</th>\n",
       "      <th>price</th>\n",
       "      <th>review_scores_rating</th>\n",
       "      <th>city</th>\n",
       "      <th>latitude</th>\n",
       "      <th>longitude</th>\n",
       "      <th>bathrooms</th>\n",
       "      <th>cluster</th>\n",
       "    </tr>\n",
       "  </thead>\n",
       "  <tbody>\n",
       "    <tr>\n",
       "      <th>0</th>\n",
       "      <td>52438122</td>\n",
       "      <td>https://www.airbnb.com/rooms/52438122</td>\n",
       "      <td>https://a0.muscache.com/pictures/miso/Hosting-...</td>\n",
       "      <td>Stunning New Cottage minutes to downtown Ashev...</td>\n",
       "      <td>Come relax in this brand new cottage with tast...</td>\n",
       "      <td>Entire cottage</td>\n",
       "      <td>Entire home/apt</td>\n",
       "      <td>4</td>\n",
       "      <td>63</td>\n",
       "      <td>2.0</td>\n",
       "      <td>2.0</td>\n",
       "      <td>225.0</td>\n",
       "      <td>4.98</td>\n",
       "      <td>Asheville</td>\n",
       "      <td>35.56967</td>\n",
       "      <td>-82.63193</td>\n",
       "      <td>1.5</td>\n",
       "      <td>1</td>\n",
       "    </tr>\n",
       "    <tr>\n",
       "      <th>1</th>\n",
       "      <td>22119778</td>\n",
       "      <td>https://www.airbnb.com/rooms/22119778</td>\n",
       "      <td>https://a0.muscache.com/pictures/bac6ce5d-d2ff...</td>\n",
       "      <td>Large king suite with private balcony and soak...</td>\n",
       "      <td>Whether you're looking for a romantic Ashevill...</td>\n",
       "      <td>Private room in bed and breakfast</td>\n",
       "      <td>Private room</td>\n",
       "      <td>3</td>\n",
       "      <td>1</td>\n",
       "      <td>2.0</td>\n",
       "      <td>2.0</td>\n",
       "      <td>306.0</td>\n",
       "      <td>5.00</td>\n",
       "      <td>Asheville</td>\n",
       "      <td>35.60284</td>\n",
       "      <td>-82.56727</td>\n",
       "      <td>1.0</td>\n",
       "      <td>1</td>\n",
       "    </tr>\n",
       "    <tr>\n",
       "      <th>2</th>\n",
       "      <td>47812966</td>\n",
       "      <td>https://www.airbnb.com/rooms/47812966</td>\n",
       "      <td>https://a0.muscache.com/pictures/324713f3-ea1c...</td>\n",
       "      <td>Blue Ridge Magic: Artist's Hideaway (Brand New)</td>\n",
       "      <td>New listing: Blue Ridge Magic named for our pa...</td>\n",
       "      <td>Entire rental unit</td>\n",
       "      <td>Entire home/apt</td>\n",
       "      <td>4</td>\n",
       "      <td>25</td>\n",
       "      <td>1.0</td>\n",
       "      <td>2.0</td>\n",
       "      <td>108.0</td>\n",
       "      <td>5.00</td>\n",
       "      <td>Asheville</td>\n",
       "      <td>35.58475</td>\n",
       "      <td>-82.57182</td>\n",
       "      <td>1.0</td>\n",
       "      <td>1</td>\n",
       "    </tr>\n",
       "    <tr>\n",
       "      <th>3</th>\n",
       "      <td>46284932</td>\n",
       "      <td>https://www.airbnb.com/rooms/46284932</td>\n",
       "      <td>https://a0.muscache.com/pictures/miso/Hosting-...</td>\n",
       "      <td>Simple and Cozy Bedroom in Central Area</td>\n",
       "      <td>Looking for a simple bedroom and bathroom to r...</td>\n",
       "      <td>Private room in bungalow</td>\n",
       "      <td>Private room</td>\n",
       "      <td>2</td>\n",
       "      <td>3</td>\n",
       "      <td>1.0</td>\n",
       "      <td>1.0</td>\n",
       "      <td>70.0</td>\n",
       "      <td>5.00</td>\n",
       "      <td>Asheville</td>\n",
       "      <td>35.57870</td>\n",
       "      <td>-82.61582</td>\n",
       "      <td>1.0</td>\n",
       "      <td>1</td>\n",
       "    </tr>\n",
       "    <tr>\n",
       "      <th>4</th>\n",
       "      <td>48366092</td>\n",
       "      <td>https://www.airbnb.com/rooms/48366092</td>\n",
       "      <td>https://a0.muscache.com/pictures/prohost-api/H...</td>\n",
       "      <td>Hot tub, Fire pit, 5 miles to downtown Asheville</td>\n",
       "      <td>Beautiful 2 bedroom oasis. Custom built, fully...</td>\n",
       "      <td>Entire cottage</td>\n",
       "      <td>Entire home/apt</td>\n",
       "      <td>4</td>\n",
       "      <td>143</td>\n",
       "      <td>2.0</td>\n",
       "      <td>2.0</td>\n",
       "      <td>114.0</td>\n",
       "      <td>4.92</td>\n",
       "      <td>Asheville</td>\n",
       "      <td>35.55106</td>\n",
       "      <td>-82.51424</td>\n",
       "      <td>1.0</td>\n",
       "      <td>0</td>\n",
       "    </tr>\n",
       "  </tbody>\n",
       "</table>\n",
       "</div>"
      ],
      "text/plain": [
       "         id                            listing_url  \\\n",
       "0  52438122  https://www.airbnb.com/rooms/52438122   \n",
       "1  22119778  https://www.airbnb.com/rooms/22119778   \n",
       "2  47812966  https://www.airbnb.com/rooms/47812966   \n",
       "3  46284932  https://www.airbnb.com/rooms/46284932   \n",
       "4  48366092  https://www.airbnb.com/rooms/48366092   \n",
       "\n",
       "                                         picture_url  \\\n",
       "0  https://a0.muscache.com/pictures/miso/Hosting-...   \n",
       "1  https://a0.muscache.com/pictures/bac6ce5d-d2ff...   \n",
       "2  https://a0.muscache.com/pictures/324713f3-ea1c...   \n",
       "3  https://a0.muscache.com/pictures/miso/Hosting-...   \n",
       "4  https://a0.muscache.com/pictures/prohost-api/H...   \n",
       "\n",
       "                                                name  \\\n",
       "0  Stunning New Cottage minutes to downtown Ashev...   \n",
       "1  Large king suite with private balcony and soak...   \n",
       "2    Blue Ridge Magic: Artist's Hideaway (Brand New)   \n",
       "3            Simple and Cozy Bedroom in Central Area   \n",
       "4   Hot tub, Fire pit, 5 miles to downtown Asheville   \n",
       "\n",
       "                                         description  \\\n",
       "0  Come relax in this brand new cottage with tast...   \n",
       "1  Whether you're looking for a romantic Ashevill...   \n",
       "2  New listing: Blue Ridge Magic named for our pa...   \n",
       "3  Looking for a simple bedroom and bathroom to r...   \n",
       "4  Beautiful 2 bedroom oasis. Custom built, fully...   \n",
       "\n",
       "                       property_type        room_type  accommodates  \\\n",
       "0                     Entire cottage  Entire home/apt             4   \n",
       "1  Private room in bed and breakfast     Private room             3   \n",
       "2                 Entire rental unit  Entire home/apt             4   \n",
       "3           Private room in bungalow     Private room             2   \n",
       "4                     Entire cottage  Entire home/apt             4   \n",
       "\n",
       "   number_of_reviews  bedrooms  beds  price  review_scores_rating       city  \\\n",
       "0                 63       2.0   2.0  225.0                  4.98  Asheville   \n",
       "1                  1       2.0   2.0  306.0                  5.00  Asheville   \n",
       "2                 25       1.0   2.0  108.0                  5.00  Asheville   \n",
       "3                  3       1.0   1.0   70.0                  5.00  Asheville   \n",
       "4                143       2.0   2.0  114.0                  4.92  Asheville   \n",
       "\n",
       "   latitude  longitude  bathrooms  cluster  \n",
       "0  35.56967  -82.63193        1.5        1  \n",
       "1  35.60284  -82.56727        1.0        1  \n",
       "2  35.58475  -82.57182        1.0        1  \n",
       "3  35.57870  -82.61582        1.0        1  \n",
       "4  35.55106  -82.51424        1.0        0  "
      ]
     },
     "execution_count": 2,
     "metadata": {},
     "output_type": "execute_result"
    }
   ],
   "source": [
    "df = pd.read_csv('listings_clustered.csv')\n",
    "df.head()"
   ]
  },
  {
   "cell_type": "code",
   "execution_count": 3,
   "metadata": {},
   "outputs": [
    {
     "name": "stdout",
     "output_type": "stream",
     "text": [
      "<class 'pandas.core.frame.DataFrame'>\n",
      "RangeIndex: 28923 entries, 0 to 28922\n",
      "Data columns (total 18 columns):\n",
      " #   Column                Non-Null Count  Dtype  \n",
      "---  ------                --------------  -----  \n",
      " 0   id                    28923 non-null  int64  \n",
      " 1   listing_url           28923 non-null  object \n",
      " 2   picture_url           28923 non-null  object \n",
      " 3   name                  28923 non-null  object \n",
      " 4   description           28923 non-null  object \n",
      " 5   property_type         28923 non-null  object \n",
      " 6   room_type             28923 non-null  object \n",
      " 7   accommodates          28923 non-null  int64  \n",
      " 8   number_of_reviews     28923 non-null  int64  \n",
      " 9   bedrooms              28923 non-null  float64\n",
      " 10  beds                  28923 non-null  float64\n",
      " 11  price                 28923 non-null  float64\n",
      " 12  review_scores_rating  28923 non-null  float64\n",
      " 13  city                  28923 non-null  object \n",
      " 14  latitude              28923 non-null  float64\n",
      " 15  longitude             28923 non-null  float64\n",
      " 16  bathrooms             28923 non-null  float64\n",
      " 17  cluster               28923 non-null  int64  \n",
      "dtypes: float64(7), int64(4), object(7)\n",
      "memory usage: 4.0+ MB\n"
     ]
    }
   ],
   "source": [
    "df.info()"
   ]
  },
  {
   "cell_type": "code",
   "execution_count": 11,
   "metadata": {},
   "outputs": [],
   "source": [
    "tfidf_vectorizer1 = TfidfVectorizer(stop_words='english')\n",
    "tfidf_matrix1 = tfidf_vectorizer1.fit_transform(df['description'])\n",
    "\n",
    "tfidf_vectorizer2 = TfidfVectorizer(stop_words='english')\n",
    "tfidf_matrix2 = tfidf_vectorizer2.fit_transform(df['city'])\n",
    "\n",
    "tfidf_matrix_combined = hstack([tfidf_matrix1, tfidf_matrix2])"
   ]
  },
  {
   "cell_type": "code",
   "execution_count": 12,
   "metadata": {},
   "outputs": [
    {
     "name": "stdout",
     "output_type": "stream",
     "text": [
      "<class 'pandas.core.frame.DataFrame'>\n",
      "RangeIndex: 28923 entries, 0 to 28922\n",
      "Data columns (total 19 columns):\n",
      " #   Column                Non-Null Count  Dtype  \n",
      "---  ------                --------------  -----  \n",
      " 0   id                    28923 non-null  int64  \n",
      " 1   listing_url           28923 non-null  object \n",
      " 2   picture_url           28923 non-null  object \n",
      " 3   name                  28923 non-null  object \n",
      " 4   description           28923 non-null  object \n",
      " 5   property_type         28923 non-null  object \n",
      " 6   room_type             28923 non-null  object \n",
      " 7   accommodates          28923 non-null  int64  \n",
      " 8   number_of_reviews     28923 non-null  int64  \n",
      " 9   bedrooms              28923 non-null  float64\n",
      " 10  beds                  28923 non-null  float64\n",
      " 11  price                 28923 non-null  float64\n",
      " 12  review_scores_rating  28923 non-null  float64\n",
      " 13  city                  28923 non-null  object \n",
      " 14  latitude              28923 non-null  float64\n",
      " 15  longitude             28923 non-null  float64\n",
      " 16  bathrooms             28923 non-null  float64\n",
      " 17  cluster               28923 non-null  int64  \n",
      " 18  amenities             28923 non-null  object \n",
      "dtypes: float64(7), int64(4), object(8)\n",
      "memory usage: 4.2+ MB\n"
     ]
    }
   ],
   "source": [
    "df.info()"
   ]
  },
  {
   "cell_type": "code",
   "execution_count": 59,
   "metadata": {},
   "outputs": [
    {
     "data": {
      "text/plain": [
       "id                      28923\n",
       "listing_url             28923\n",
       "picture_url             28767\n",
       "name                    28567\n",
       "description             28184\n",
       "property_type              97\n",
       "room_type                   4\n",
       "accommodates               16\n",
       "number_of_reviews         571\n",
       "bedrooms                   13\n",
       "beds                       25\n",
       "price                    1272\n",
       "review_scores_rating      160\n",
       "city                       31\n",
       "latitude                27200\n",
       "longitude               27093\n",
       "bathrooms                  22\n",
       "cluster                     3\n",
       "amenities               28297\n",
       "dtype: int64"
      ]
     },
     "execution_count": 59,
     "metadata": {},
     "output_type": "execute_result"
    }
   ],
   "source": [
    "df.nunique()"
   ]
  },
  {
   "cell_type": "code",
   "execution_count": 82,
   "metadata": {},
   "outputs": [],
   "source": [
    "X = df[['description','city','accommodates','number_of_reviews','bedrooms','beds','price','review_scores_rating','bathrooms']].copy()\n",
    "\n",
    "X_rec = X.drop(['description'], axis=1).copy()"
   ]
  },
  {
   "cell_type": "code",
   "execution_count": 83,
   "metadata": {},
   "outputs": [],
   "source": [
    "num_col = ['accommodates','number_of_reviews','bedrooms','beds','price','review_scores_rating','bathrooms']\n",
    "\n",
    "pipeline = Pipeline([\n",
    "    ('winsorizer', Winsorizer(capping_method='iqr', tail='both', fold=3, variables=num_col)),\n",
    "    ('scaler', RobustScaler())\n",
    "    ])\n",
    "\n",
    "num_scaled = pipeline.fit_transform(X[num_col])\n",
    "\n",
    "# Add to the feature matrix\n",
    "feature_matrix = hstack([tfidf_matrix_combined, num_scaled])\n",
    "\n",
    "X_rec[num_col] = pipeline.fit_transform(X_rec[num_col])"
   ]
  },
  {
   "cell_type": "code",
   "execution_count": 115,
   "metadata": {},
   "outputs": [],
   "source": [
    "X_rec = pd.get_dummies(X_rec)"
   ]
  },
  {
   "cell_type": "code",
   "execution_count": 74,
   "metadata": {},
   "outputs": [],
   "source": [
    "cosine_sim = cosine_similarity(feature_matrix, feature_matrix)"
   ]
  },
  {
   "cell_type": "code",
   "execution_count": 76,
   "metadata": {},
   "outputs": [],
   "source": [
    "df_rec = pd.DataFrame(cosine_sim, index=df['name'], columns=df['name'])\n",
    "\n",
    "def sorting(name):\n",
    "  tmp = df_rec[name].drop(index=name).sort_values(ascending=False).iloc[:5]\n",
    "  print(f'You like {name}, so based on our recommender system, We recommend you to stay in:')\n",
    "  for i,name in enumerate(tmp.index):\n",
    "    print(f'{i+1}. {name}')"
   ]
  },
  {
   "cell_type": "code",
   "execution_count": 92,
   "metadata": {},
   "outputs": [
    {
     "data": {
      "text/plain": [
       "4.88"
      ]
     },
     "execution_count": 92,
     "metadata": {},
     "output_type": "execute_result"
    }
   ],
   "source": [
    "df.review_scores_rating.median()"
   ]
  },
  {
   "cell_type": "code",
   "execution_count": 119,
   "metadata": {},
   "outputs": [],
   "source": [
    "def get_recommendations(name=None, city=None, price=150, accommodates=2, beds=1, bedrooms=1, bathrooms=1):\n",
    "\n",
    "    # Create a user profile\n",
    "    user_profile = {'name': name, 'city': city, 'price': price, 'accommodates':accommodates, 'beds':beds,\n",
    "                    'bedrooms':bedrooms, 'bathrooms':bathrooms}\n",
    "\n",
    "    # Convert the user profile to a DataFrame\n",
    "    user_df = pd.DataFrame([user_profile])\n",
    "\n",
    "    user_df = pd.get_dummies(user_df)\n",
    "\n",
    "    # Compute similarity scores\n",
    "    sim_scores = cosine_similarity(user_df, X_rec)\n",
    "\n"
   ]
  },
  {
   "cell_type": "code",
   "execution_count": 103,
   "metadata": {},
   "outputs": [
    {
     "name": "stdout",
     "output_type": "stream",
     "text": [
      "You like House in West Asheville/River Arts District, so based on our recommender system, We recommend you to stay in:\n",
      "1. Large 3BR Asheville Home - Quiet Neighborhood!\n",
      "2. Comfortable Modern West Asheville home\n",
      "3. Modern 3-bedroom house in a great location!\n",
      "4. Cozy Asheville get away 15 minutes to downtown !!\n",
      "5. Perfect vacation home 2\n"
     ]
    }
   ],
   "source": [
    "sorting('House in West Asheville/River Arts District')"
   ]
  },
  {
   "cell_type": "code",
   "execution_count": 120,
   "metadata": {},
   "outputs": [
    {
     "ename": "ValueError",
     "evalue": "Incompatible dimension for X and Y matrices: X.shape[1] == 6 while Y.shape[1] == 38",
     "output_type": "error",
     "traceback": [
      "\u001b[1;31m---------------------------------------------------------------------------\u001b[0m",
      "\u001b[1;31mValueError\u001b[0m                                Traceback (most recent call last)",
      "Cell \u001b[1;32mIn[120], line 1\u001b[0m\n\u001b[1;32m----> 1\u001b[0m get_recommendations(city\u001b[38;5;241m=\u001b[39m\u001b[38;5;124m'\u001b[39m\u001b[38;5;124mNew York City\u001b[39m\u001b[38;5;124m'\u001b[39m)\n",
      "Cell \u001b[1;32mIn[119], line 13\u001b[0m, in \u001b[0;36mget_recommendations\u001b[1;34m(name, city, price, accommodates, beds, bedrooms, bathrooms)\u001b[0m\n\u001b[0;32m     10\u001b[0m user_df \u001b[38;5;241m=\u001b[39m pd\u001b[38;5;241m.\u001b[39mget_dummies(user_df)\n\u001b[0;32m     12\u001b[0m \u001b[38;5;66;03m# Compute similarity scores\u001b[39;00m\n\u001b[1;32m---> 13\u001b[0m sim_scores \u001b[38;5;241m=\u001b[39m cosine_similarity(user_df, X_rec)\n",
      "File \u001b[1;32mc:\\Users\\lukas_dtet3v6\\anaconda3\\Lib\\site-packages\\sklearn\\metrics\\pairwise.py:1393\u001b[0m, in \u001b[0;36mcosine_similarity\u001b[1;34m(X, Y, dense_output)\u001b[0m\n\u001b[0;32m   1358\u001b[0m \u001b[38;5;250m\u001b[39m\u001b[38;5;124;03m\"\"\"Compute cosine similarity between samples in X and Y.\u001b[39;00m\n\u001b[0;32m   1359\u001b[0m \n\u001b[0;32m   1360\u001b[0m \u001b[38;5;124;03mCosine similarity, or the cosine kernel, computes similarity as the\u001b[39;00m\n\u001b[1;32m   (...)\u001b[0m\n\u001b[0;32m   1389\u001b[0m \u001b[38;5;124;03m    Returns the cosine similarity between samples in X and Y.\u001b[39;00m\n\u001b[0;32m   1390\u001b[0m \u001b[38;5;124;03m\"\"\"\u001b[39;00m\n\u001b[0;32m   1391\u001b[0m \u001b[38;5;66;03m# to avoid recursive import\u001b[39;00m\n\u001b[1;32m-> 1393\u001b[0m X, Y \u001b[38;5;241m=\u001b[39m check_pairwise_arrays(X, Y)\n\u001b[0;32m   1395\u001b[0m X_normalized \u001b[38;5;241m=\u001b[39m normalize(X, copy\u001b[38;5;241m=\u001b[39m\u001b[38;5;28;01mTrue\u001b[39;00m)\n\u001b[0;32m   1396\u001b[0m \u001b[38;5;28;01mif\u001b[39;00m X \u001b[38;5;129;01mis\u001b[39;00m Y:\n",
      "File \u001b[1;32mc:\\Users\\lukas_dtet3v6\\anaconda3\\Lib\\site-packages\\sklearn\\metrics\\pairwise.py:180\u001b[0m, in \u001b[0;36mcheck_pairwise_arrays\u001b[1;34m(X, Y, precomputed, dtype, accept_sparse, force_all_finite, copy)\u001b[0m\n\u001b[0;32m    174\u001b[0m         \u001b[38;5;28;01mraise\u001b[39;00m \u001b[38;5;167;01mValueError\u001b[39;00m(\n\u001b[0;32m    175\u001b[0m             \u001b[38;5;124m\"\u001b[39m\u001b[38;5;124mPrecomputed metric requires shape \u001b[39m\u001b[38;5;124m\"\u001b[39m\n\u001b[0;32m    176\u001b[0m             \u001b[38;5;124m\"\u001b[39m\u001b[38;5;124m(n_queries, n_indexed). Got (\u001b[39m\u001b[38;5;132;01m%d\u001b[39;00m\u001b[38;5;124m, \u001b[39m\u001b[38;5;132;01m%d\u001b[39;00m\u001b[38;5;124m) \u001b[39m\u001b[38;5;124m\"\u001b[39m\n\u001b[0;32m    177\u001b[0m             \u001b[38;5;124m\"\u001b[39m\u001b[38;5;124mfor \u001b[39m\u001b[38;5;132;01m%d\u001b[39;00m\u001b[38;5;124m indexed.\u001b[39m\u001b[38;5;124m\"\u001b[39m \u001b[38;5;241m%\u001b[39m (X\u001b[38;5;241m.\u001b[39mshape[\u001b[38;5;241m0\u001b[39m], X\u001b[38;5;241m.\u001b[39mshape[\u001b[38;5;241m1\u001b[39m], Y\u001b[38;5;241m.\u001b[39mshape[\u001b[38;5;241m0\u001b[39m])\n\u001b[0;32m    178\u001b[0m         )\n\u001b[0;32m    179\u001b[0m \u001b[38;5;28;01melif\u001b[39;00m X\u001b[38;5;241m.\u001b[39mshape[\u001b[38;5;241m1\u001b[39m] \u001b[38;5;241m!=\u001b[39m Y\u001b[38;5;241m.\u001b[39mshape[\u001b[38;5;241m1\u001b[39m]:\n\u001b[1;32m--> 180\u001b[0m     \u001b[38;5;28;01mraise\u001b[39;00m \u001b[38;5;167;01mValueError\u001b[39;00m(\n\u001b[0;32m    181\u001b[0m         \u001b[38;5;124m\"\u001b[39m\u001b[38;5;124mIncompatible dimension for X and Y matrices: \u001b[39m\u001b[38;5;124m\"\u001b[39m\n\u001b[0;32m    182\u001b[0m         \u001b[38;5;124m\"\u001b[39m\u001b[38;5;124mX.shape[1] == \u001b[39m\u001b[38;5;132;01m%d\u001b[39;00m\u001b[38;5;124m while Y.shape[1] == \u001b[39m\u001b[38;5;132;01m%d\u001b[39;00m\u001b[38;5;124m\"\u001b[39m \u001b[38;5;241m%\u001b[39m (X\u001b[38;5;241m.\u001b[39mshape[\u001b[38;5;241m1\u001b[39m], Y\u001b[38;5;241m.\u001b[39mshape[\u001b[38;5;241m1\u001b[39m])\n\u001b[0;32m    183\u001b[0m     )\n\u001b[0;32m    185\u001b[0m \u001b[38;5;28;01mreturn\u001b[39;00m X, Y\n",
      "\u001b[1;31mValueError\u001b[0m: Incompatible dimension for X and Y matrices: X.shape[1] == 6 while Y.shape[1] == 38"
     ]
    }
   ],
   "source": [
    "get_recommendations(city='New York City')"
   ]
  }
 ],
 "metadata": {
  "kernelspec": {
   "display_name": "base",
   "language": "python",
   "name": "python3"
  },
  "language_info": {
   "codemirror_mode": {
    "name": "ipython",
    "version": 3
   },
   "file_extension": ".py",
   "mimetype": "text/x-python",
   "name": "python",
   "nbconvert_exporter": "python",
   "pygments_lexer": "ipython3",
   "version": "3.11.7"
  }
 },
 "nbformat": 4,
 "nbformat_minor": 2
}
